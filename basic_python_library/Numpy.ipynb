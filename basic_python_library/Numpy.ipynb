{
  "nbformat": 4,
  "nbformat_minor": 0,
  "metadata": {
    "colab": {
      "provenance": []
    },
    "kernelspec": {
      "name": "python3",
      "display_name": "Python 3"
    },
    "language_info": {
      "name": "python"
    }
  },
  "cells": [
    {
      "cell_type": "markdown",
      "source": [
        "### 1. NumPy 数组（ndarray）\n",
        "\n",
        "NumPy 的核心是 `ndarray` 类型的多维数组，支持高效的数值计算。\n",
        "\n",
        "- 一维数组：类似列表 `[1, 2, 3]`\n",
        "- 二维数组：矩阵形式 `[[1, 2], [3, 4]]`\n",
        "- 多维数组：支持高维张量\n",
        "\n",
        "NumPy 提供 `np.array()` 函数来创建数组。\n"
      ],
      "metadata": {
        "id": "3duj3551Ost5"
      }
    },
    {
      "cell_type": "code",
      "execution_count": 1,
      "metadata": {
        "colab": {
          "base_uri": "https://localhost:8080/"
        },
        "id": "sL1W4C2tOBbv",
        "outputId": "6b89a55e-de8c-40d5-9fd7-c0973a43f4b6"
      },
      "outputs": [
        {
          "output_type": "stream",
          "name": "stdout",
          "text": [
            "一维数组 a: [1 2 3]\n",
            "二维数组 b:\n",
            " [[1 2 3]\n",
            " [4 5 6]]\n",
            "a 的类型: <class 'numpy.ndarray'>\n",
            "b 的维度: 2\n",
            "b 的形状: (2, 3)\n"
          ]
        }
      ],
      "source": [
        "import numpy as np\n",
        "\n",
        "# 一维数组\n",
        "a = np.array([1, 2, 3])\n",
        "print(\"一维数组 a:\", a)\n",
        "\n",
        "# 二维数组\n",
        "b = np.array([[1, 2, 3], [4, 5, 6]])\n",
        "print(\"二维数组 b:\\n\", b)\n",
        "\n",
        "# 查看数据类型\n",
        "print(\"a 的类型:\", type(a))\n",
        "print(\"b 的维度:\", b.ndim)\n",
        "print(\"b 的形状:\", b.shape)\n"
      ]
    },
    {
      "cell_type": "markdown",
      "source": [
        "### 2. 创建数组（array, arange, linspace）\n",
        "\n",
        "- `np.array()`：将列表或嵌套列表转为数组\n",
        "- `np.arange(start, stop, step)`：创建等差数组（不包含 stop）\n",
        "- `np.linspace(start, stop, num)`：创建等间距数组（包含 stop）\n",
        "\n",
        "这些函数是 NumPy 中最常用的数组创建方法。\n"
      ],
      "metadata": {
        "id": "KJNJK7kDOxuv"
      }
    },
    {
      "cell_type": "code",
      "source": [
        "# array\n",
        "a = np.array([[1, 2], [3, 4]])\n",
        "\n",
        "# arange\n",
        "b = np.arange(0, 10, 2)\n",
        "\n",
        "# linspace\n",
        "c = np.linspace(0, 1, 5)\n",
        "\n",
        "print(\"array:\\n\", a)\n",
        "print(\"arange:\", b)\n",
        "print(\"linspace:\", c)"
      ],
      "metadata": {
        "colab": {
          "base_uri": "https://localhost:8080/"
        },
        "id": "f-cX_ANeOzms",
        "outputId": "63a6f6e7-dc7b-4b3b-df1c-cf85a735ede5"
      },
      "execution_count": 4,
      "outputs": [
        {
          "output_type": "stream",
          "name": "stdout",
          "text": [
            "array:\n",
            " [[1 2]\n",
            " [3 4]]\n",
            "arange: [0 2 4 6 8]\n",
            "linspace: [0.   0.25 0.5  0.75 1.  ]\n"
          ]
        }
      ]
    },
    {
      "cell_type": "markdown",
      "source": [
        "### 3. 数组索引与切片\n",
        "\n",
        "NumPy 支持类似 Python 列表的索引方式，同时还提供多维索引、布尔索引、花式索引等。\n",
        "\n",
        "常见操作：\n",
        "- `a[1]`：取第 2 个元素\n",
        "- `a[1:3]`：切片（左闭右开）\n",
        "- `a[0, 2]`：二维数组中第 1 行第 3 列\n",
        "- `a[:, 1]`：取所有行的第 2 列\n"
      ],
      "metadata": {
        "id": "YP34xNWwPBPQ"
      }
    },
    {
      "cell_type": "code",
      "source": [
        "a = np.array([[10, 20, 30],\n",
        "              [40, 50, 60],\n",
        "              [70, 80, 90]])\n",
        "\n",
        "print(\"原始数组:\\n\", a)\n",
        "\n",
        "# 访问元素：第2行第3列\n",
        "print(\"a[1, 2]:\", a[1, 2])\n",
        "\n",
        "# 取第1行\n",
        "print(\"a[0]:\", a[0])\n",
        "\n",
        "# 取所有行的第2列\n",
        "print(\"a[:, 1]:\", a[:, 1])\n",
        "\n",
        "# 取左上角2x2子矩阵\n",
        "print(\"a[:2, :2]:\\n\", a[:2, :2])"
      ],
      "metadata": {
        "colab": {
          "base_uri": "https://localhost:8080/"
        },
        "id": "Kdib6KWPPEkh",
        "outputId": "52608ba9-c6a5-4f7c-95ca-d8049312b244"
      },
      "execution_count": 6,
      "outputs": [
        {
          "output_type": "stream",
          "name": "stdout",
          "text": [
            "原始数组:\n",
            " [[10 20 30]\n",
            " [40 50 60]\n",
            " [70 80 90]]\n",
            "a[1, 2]: 60\n",
            "a[0]: [10 20 30]\n",
            "a[:, 1]: [20 50 80]\n",
            "a[:2, :2]:\n",
            " [[10 20]\n",
            " [40 50]]\n",
            "[40 50 60]\n"
          ]
        }
      ]
    },
    {
      "cell_type": "markdown",
      "source": [
        "### 4. 数组形状操作（reshape, ravel, flatten）\n",
        "\n",
        "- `reshape`：改变数组形状（不改变数据）\n",
        "- `ravel`：降为一维，返回原数组的视图（view）\n",
        "- `flatten`：降为一维，返回副本（copy）\n",
        "\n",
        "#### 📌 ravel vs flatten 区别总结：\n",
        "\n",
        "| 特性            | `ravel()`         | `flatten()`       |\n",
        "|------------------|--------------------|---------------------|\n",
        "| 返回类型         | 视图（View）        | 副本（Copy）        |\n",
        "| 是否复制数据     | 否                  | 是                  |\n",
        "| 效率             | 更快               | 较慢               |\n",
        "| 修改后影响原数组 | 可能（若连续）       | 不会               |\n",
        "\n",
        "常用于矩阵转置、数据预处理等任务。\n"
      ],
      "metadata": {
        "id": "IbwYelS_PQrV"
      }
    },
    {
      "cell_type": "code",
      "source": [
        "a = np.array([[1, 2, 3], [4, 5, 6]])\n",
        "\n",
        "# reshape 为 (3, 2)\n",
        "b = a.reshape((3, 2))\n",
        "print(\"reshape:\\n\", b)\n",
        "\n",
        "# ravel 返回视图（view）\n",
        "r = a.ravel()\n",
        "r[0] = 100  # 修改 r 会影响 a\n",
        "print(\"ravel:\", r)\n",
        "\n",
        "# flatten 返回副本（copy）\n",
        "f = a.flatten()\n",
        "f[1] = 999  # 修改 f 不会影响 a\n",
        "print(\"flatten:\", f)\n",
        "\n",
        "# 查看原始数组 a 是否被 ravel 或 flatten 修改\n",
        "print(\"原始数组 a:\\n\", a)"
      ],
      "metadata": {
        "colab": {
          "base_uri": "https://localhost:8080/"
        },
        "id": "BgGBmTTgPSMH",
        "outputId": "085ae431-a5a8-4acc-d3c7-137fa8c22810"
      },
      "execution_count": 11,
      "outputs": [
        {
          "output_type": "stream",
          "name": "stdout",
          "text": [
            "reshape:\n",
            " [[1 2]\n",
            " [3 4]\n",
            " [5 6]]\n",
            "ravel: [100   2   3   4   5   6]\n",
            "flatten: [100 999   3   4   5   6]\n",
            "原始数组 a:\n",
            " [[100   2   3]\n",
            " [  4   5   6]]\n"
          ]
        }
      ]
    },
    {
      "cell_type": "markdown",
      "source": [
        "### 5. 数学运算（加减乘除，dot, sum, mean, std）\n",
        "\n",
        "NumPy 支持向量化运算（比循环更快）：\n",
        "- `+`, `-`, `*`, `/` 逐元素操作\n",
        "- `dot()`：矩阵乘法或内积\n",
        "- `sum()`, `mean()`, `std()`：求和、平均、标准差\n"
      ],
      "metadata": {
        "id": "k2K1Xb1JPgI_"
      }
    },
    {
      "cell_type": "code",
      "source": [
        "a = np.array([[1, 2], [3, 4]])\n",
        "b = np.array([[5, 6], [7, 8]])\n",
        "\n",
        "# 元素级运算\n",
        "print(\"加法:\\n\", a + b)\n",
        "print(\"乘法:\\n\", a * b)\n",
        "\n",
        "# 矩阵乘法\n",
        "print(\"矩阵乘法 dot:\\n\", np.dot(a, b))\n",
        "\n",
        "# 聚合函数\n",
        "print(\"总和:\", a.sum())\n",
        "print(\"平均值:\", a.mean())\n",
        "print(\"标准差:\", a.std())\n"
      ],
      "metadata": {
        "colab": {
          "base_uri": "https://localhost:8080/"
        },
        "id": "pz-YruJAPhhV",
        "outputId": "fef4e87f-99da-443c-f28d-9568e1923526"
      },
      "execution_count": 9,
      "outputs": [
        {
          "output_type": "stream",
          "name": "stdout",
          "text": [
            "加法:\n",
            " [[ 6  8]\n",
            " [10 12]]\n",
            "乘法:\n",
            " [[ 5 12]\n",
            " [21 32]]\n",
            "矩阵乘法 dot:\n",
            " [[19 22]\n",
            " [43 50]]\n",
            "总和: 10\n",
            "平均值: 2.5\n",
            "标准差: 1.118033988749895\n"
          ]
        }
      ]
    },
    {
      "cell_type": "markdown",
      "source": [
        "### 6. 广播机制（Broadcasting）\n",
        "\n",
        "广播机制允许不同形状的数组进行运算，NumPy 会自动扩展维度，使其能逐元素运算。\n",
        "\n",
        "**广播规则简述：**\n",
        "1. 从尾部（右侧）开始比较两个数组的形状；\n",
        "2. 若两个维度相同，或其中一个为 1，则可进行广播；\n",
        "3. 否则，抛出 `ValueError`。\n",
        "\n",
        "#### 📌 常见广播场景：\n",
        "- 向量加标量：`[1, 2, 3] + 1`\n",
        "- 矩阵加行向量：`(3, 3) + (1, 3)`\n",
        "- 矩阵加列向量：`(3, 3) + (3, 1)`\n",
        "\n",
        "广播通常在机器学习的数据标准化、批量操作中非常常用。\n"
      ],
      "metadata": {
        "id": "O582cmhPQF22"
      }
    },
    {
      "cell_type": "code",
      "source": [
        "import numpy as np\n",
        "\n",
        "# 原始数组 a: 形状为 (3, 3)\n",
        "a = np.array([[1, 2, 3],\n",
        "              [4, 5, 6],\n",
        "              [7, 8, 9]])\n",
        "\n",
        "# 行向量 b: (1, 3)\n",
        "b = np.array([[10, 20, 30]])\n",
        "\n",
        "# 列向量 c: (3, 1)\n",
        "c = np.array([[1],\n",
        "              [2],\n",
        "              [3]])\n",
        "\n",
        "# 广播加法：矩阵 + 行向量\n",
        "res1 = a + b\n",
        "print(\"a + b (行向量广播):\\n\", res1)\n",
        "\n",
        "# 广播加法：矩阵 + 列向量\n",
        "res2 = a + c\n",
        "print(\"a + c (列向量广播):\\n\", res2)\n",
        "\n",
        "# 与标量运算\n",
        "res3 = a * 2\n",
        "print(\"a * 2 (标量广播):\\n\", res3)\n",
        "\n",
        "# 验证广播不修改原数组\n",
        "print(\"原始数组 a:\\n\", a)\n"
      ],
      "metadata": {
        "colab": {
          "base_uri": "https://localhost:8080/"
        },
        "id": "zxSzSs7JQHp9",
        "outputId": "d0c2bfe0-e1ec-47ee-a45d-150008d3a56e"
      },
      "execution_count": 12,
      "outputs": [
        {
          "output_type": "stream",
          "name": "stdout",
          "text": [
            "a + b (行向量广播):\n",
            " [[11 22 33]\n",
            " [14 25 36]\n",
            " [17 28 39]]\n",
            "a + c (列向量广播):\n",
            " [[ 2  3  4]\n",
            " [ 6  7  8]\n",
            " [10 11 12]]\n",
            "a * 2 (标量广播):\n",
            " [[ 2  4  6]\n",
            " [ 8 10 12]\n",
            " [14 16 18]]\n",
            "原始数组 a:\n",
            " [[1 2 3]\n",
            " [4 5 6]\n",
            " [7 8 9]]\n"
          ]
        }
      ]
    },
    {
      "cell_type": "markdown",
      "source": [
        "### 7. 线性代数模块（np.linalg）\n",
        "\n",
        "NumPy 的 `linalg` 模块提供了常用的线性代数函数：\n",
        "\n",
        "| 函数         | 功能说明                     |\n",
        "|--------------|------------------------------|\n",
        "| `dot`        | 点积（向量）或矩阵乘法（矩阵） |\n",
        "| `inv`        | 求矩阵的逆                   |\n",
        "| `eig`        | 求特征值和特征向量           |\n",
        "| `solve`      | 解线性方程组 Ax = b          |\n",
        "\n",
        "> 注意：这些函数只适用于**二维数组（矩阵）**，并要求满足对应的数学前提（如可逆、方阵等）。\n"
      ],
      "metadata": {
        "id": "s25kU6vKQoHI"
      }
    },
    {
      "cell_type": "code",
      "source": [
        "import numpy as np\n",
        "\n",
        "# 定义一个二维矩阵 A 和向量 b\n",
        "A = np.array([[2, 1],\n",
        "              [1, 3]])\n",
        "\n",
        "b = np.array([8, 13])\n",
        "\n",
        "# 矩阵乘法（dot）\n",
        "x = np.array([1, 2])\n",
        "print(\"A.dot(x):\", np.dot(A, x))\n",
        "\n",
        "# 求逆矩阵\n",
        "A_inv = np.linalg.inv(A)\n",
        "print(\"A 的逆矩阵:\\n\", A_inv)\n",
        "\n",
        "# 验证 A @ A_inv 应该是单位阵\n",
        "identity = np.dot(A, A_inv)\n",
        "print(\"A @ A_inv:\\n\", identity)\n",
        "\n",
        "# 解线性方程 Ax = b\n",
        "solution = np.linalg.solve(A, b)\n",
        "print(\"解 Ax=b，x =\", solution)\n",
        "\n",
        "# 求特征值和特征向量\n",
        "eig_vals, eig_vecs = np.linalg.eig(A)\n",
        "print(\"特征值:\", eig_vals)\n",
        "print(\"特征向量:\\n\", eig_vecs)\n"
      ],
      "metadata": {
        "colab": {
          "base_uri": "https://localhost:8080/"
        },
        "id": "S6KmEtFgQqH2",
        "outputId": "721b61ca-da59-4c5b-d009-8a0c1ebdb1c6"
      },
      "execution_count": 13,
      "outputs": [
        {
          "output_type": "stream",
          "name": "stdout",
          "text": [
            "A.dot(x): [4 7]\n",
            "A 的逆矩阵:\n",
            " [[ 0.6 -0.2]\n",
            " [-0.2  0.4]]\n",
            "A @ A_inv:\n",
            " [[ 1.00000000e+00  0.00000000e+00]\n",
            " [-5.55111512e-17  1.00000000e+00]]\n",
            "解 Ax=b，x = [2.2 3.6]\n",
            "特征值: [1.38196601 3.61803399]\n",
            "特征向量:\n",
            " [[-0.85065081 -0.52573111]\n",
            " [ 0.52573111 -0.85065081]]\n"
          ]
        }
      ]
    },
    {
      "cell_type": "markdown",
      "source": [
        "### 8. 随机模块（np.random）\n",
        "\n",
        "NumPy 的 `random` 模块用于生成随机数、抽样模拟、重排等操作，常见函数如下：\n",
        "\n",
        "| 函数                | 功能说明                       |\n",
        "|---------------------|--------------------------------|\n",
        "| `seed(n)`           | 固定随机数种子，保证结果可复现  |\n",
        "| `rand(d0, ..., dn)` | 生成 [0,1) 间均匀分布（浮点）    |\n",
        "| `randn(d0, ..., dn)`| 标准正态分布 N(0,1)（浮点）     |\n",
        "| `randint(low, high)`| 生成指定范围内整数              |\n",
        "| `choice(a)`         | 从 a 中随机抽样                |\n",
        "| `shuffle(a)`        | 原地打乱数组（修改原数组）       |\n",
        "\n",
        "> 使用 `np.random.seed()` 可以让实验结果“可复现”，尤其用于调试或模型训练。\n"
      ],
      "metadata": {
        "id": "WHGLZ4YXQykY"
      }
    },
    {
      "cell_type": "code",
      "source": [
        "import numpy as np\n",
        "\n",
        "# 固定种子，确保每次结果一致\n",
        "np.random.seed(42)\n",
        "\n",
        "# rand: 生成 2x3 的 [0, 1) 随机浮点数\n",
        "print(\"rand:\\n\", np.random.rand(2, 3))\n",
        "\n",
        "# randn: 标准正态分布（均值0，方差1）\n",
        "print(\"randn:\\n\", np.random.randn(3))\n",
        "\n",
        "# randint: 随机整数（不含上限）\n",
        "print(\"randint:\", np.random.randint(10, 20, size=(2, 4)))\n",
        "\n",
        "# choice: 从列表中随机选取元素\n",
        "items = ['apple', 'banana', 'orange']\n",
        "sample = np.random.choice(items, size=5, replace=True)\n",
        "print(\"choice:\", sample)\n",
        "\n",
        "# shuffle: 原地打乱一维数组\n",
        "arr = np.arange(10)\n",
        "np.random.shuffle(arr)\n",
        "print(\"shuffle 后 arr:\", arr)\n",
        "\n",
        "# 注意：shuffle 会修改原数组！\n"
      ],
      "metadata": {
        "colab": {
          "base_uri": "https://localhost:8080/"
        },
        "id": "01RtDZknQ0NQ",
        "outputId": "bf446e03-dc11-4848-98ef-f101878885b3"
      },
      "execution_count": 14,
      "outputs": [
        {
          "output_type": "stream",
          "name": "stdout",
          "text": [
            "rand:\n",
            " [[0.37454012 0.95071431 0.73199394]\n",
            " [0.59865848 0.15601864 0.15599452]]\n",
            "randn:\n",
            " [ 1.57921282  0.76743473 -0.46947439]\n",
            "randint: [[14 10 19 15]\n",
            " [18 10 19 12]]\n",
            "choice: ['orange' 'apple' 'orange' 'apple' 'orange']\n",
            "shuffle 后 arr: [8 2 5 7 3 1 9 0 4 6]\n"
          ]
        }
      ]
    },
    {
      "cell_type": "markdown",
      "source": [
        "### 9. 快速傅里叶变换（np.fft）\n",
        "\n",
        "NumPy 的 `np.fft` 模块用于进行傅里叶变换，将信号从 **时域** 转换到 **频域**。\n",
        "\n",
        "常用函数：\n",
        "\n",
        "| 函数           | 功能说明                          |\n",
        "|----------------|-----------------------------------|\n",
        "| `np.fft.fft()` | 快速傅里叶变换（时域 → 频域）     |\n",
        "| `np.fft.ifft()`| 逆傅里叶变换（频域 → 时域）       |\n",
        "| `np.fft.fftfreq(n)`| 返回频率对应的坐标轴（横轴） |\n",
        "\n",
        "> 通常用于分析信号的频率成分，比如音频中的“低频 / 高频”变化。\n"
      ],
      "metadata": {
        "id": "2fBzpicOQ5S9"
      }
    },
    {
      "cell_type": "code",
      "source": [
        "import numpy as np\n",
        "import matplotlib.pyplot as plt\n",
        "\n",
        "# 构造一个混合信号：两个正弦波叠加\n",
        "t = np.linspace(0, 1, 500, endpoint=False)  # 时间轴\n",
        "signal = np.sin(2 * np.pi * 5 * t) + 0.5 * np.sin(2 * np.pi * 20 * t)\n",
        "\n",
        "# 快速傅里叶变换\n",
        "freq_domain = np.fft.fft(signal)\n",
        "\n",
        "# 计算频率坐标\n",
        "freqs = np.fft.fftfreq(len(t), d=1/500)  # 采样率为 500Hz\n",
        "\n",
        "# 画出频域图像\n",
        "plt.figure(figsize=(10, 4))\n",
        "plt.plot(freqs[:250], np.abs(freq_domain)[:250])  # 只画正频率部分\n",
        "plt.title(\"\")\n",
        "plt.xlabel(\"Frequency (Hz)\")\n",
        "plt.ylabel(\"Amplitude\")\n",
        "plt.grid()\n",
        "plt.show()\n"
      ],
      "metadata": {
        "colab": {
          "base_uri": "https://localhost:8080/",
          "height": 388
        },
        "id": "EBR_3oxAQ781",
        "outputId": "d6176378-edd5-4274-e88b-9192fb6087fb"
      },
      "execution_count": 16,
      "outputs": [
        {
          "output_type": "display_data",
          "data": {
            "text/plain": [
              "<Figure size 1000x400 with 1 Axes>"
            ],
            "image/png": "[encoded data removed]"
          },
          "metadata": {}
        }
      ]
    }
  ]
}