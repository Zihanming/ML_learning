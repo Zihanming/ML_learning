{
  "nbformat": 4,
  "nbformat_minor": 0,
  "metadata": {
    "colab": {
      "provenance": []
    },
    "kernelspec": {
      "name": "python3",
      "display_name": "Python 3"
    },
    "language_info": {
      "name": "python"
    }
  },
  "cells": [
    {
      "cell_type": "markdown",
      "source": [
        "# 📘 Evaluation Metrics\n",
        "\n",
        "在训练机器学习模型之后，选择合适的评估指标对于判断模型性能、指导模型改进至关重要。不同任务（分类 vs 回归）、不同数据分布（是否不平衡）、不同模型目标（精确 vs 召回）都会影响评估方式的选择。\n",
        "\n",
        "---\n",
        "\n",
        "## ✳️ 分类 vs 回归指标概览\n",
        "\n",
        "| 分类指标举例                 | 回归指标举例                       |\n",
        "|-----------------------------|------------------------------------|\n",
        "| Accuracy / Precision / F1   | R² / Adjusted R²/  |\n",
        "| ROC-AUC / PR-AUC            | （loss: MSE, MAE 另见 Loss 部分）   |\n",
        "| Confusion Matrix            |                                     |\n",
        "| 多分类：Macro / Micro F1    |                                     |\n",
        "\n",
        "---\n",
        "\n",
        "## 📊 Confusion Matrix 是核心\n",
        "\n",
        "大多数分类指标都可从混淆矩阵推导：\n",
        "\n",
        "|                 | 预测为正类 | 预测为负类 |\n",
        "|-----------------|------------|------------|\n",
        "| 实际为正类 (P)    | TP         | FN         |\n",
        "| 实际为负类 (N)    | FP         | TN         |\n",
        "\n",
        "- TP：真正例（预测为正且实际为正）\n",
        "- FP：假正例（预测为正但实际为负）\n",
        "- FN：假负例（预测为负但实际为正）\n",
        "- TN：真负例（预测为负且实际为负）\n",
        "\n",
        "---\n",
        "\n",
        "## 📈 分类评估指标的核心维度\n",
        "\n",
        "| 维度           | 常见指标                 | 解释                                    |\n",
        "|----------------|--------------------------|-----------------------------------------|\n",
        "| 整体正确率     | Accuracy                 | 预测正确的比例（适用于均衡数据）         |\n",
        "| 正类识别能力   | Precision / Recall       | 精确度 = 有多少预测正类是对的；召回率 = 找出多少正类 |\n",
        "| 平衡评估       | F1-score                 | Precision 与 Recall 的调和平均           |\n",
        "| 曲线评估       | ROC-AUC / PR-AUC         | 不依赖阈值，评估模型在不同阈值下的整体表现 |\n",
        "| 多类别扩展     | Macro / Micro / Balanced | 处理类别不均衡或多分类问题               |\n",
        "\n",
        "---\n",
        "\n",
        "## 🎯 面试常见问题\n",
        "\n",
        "1. **什么时候不用 Accuracy？**  \n",
        "   在类别极度不平衡（如正负样本 1:1000）时，Accuracy 可能非常高但无实际意义。\n",
        "\n",
        "2. **Precision 和 Recall 有什么取舍？**  \n",
        "   Precision 高说明预测更“谨慎”，Recall 高说明正类更“不遗漏”；F1 是它们的权衡。\n",
        "\n",
        "3. **AUC 和 Accuracy 有何本质区别？**  \n",
        "   Accuracy 是某一阈值下的结果，AUC 是所有可能阈值下的综合评估（模型能力的总体曲线）。\n",
        "\n",
        "4. **Macro vs Micro F1 有什么区别？**  \n",
        "   Macro 对每个类别平均，Micro 对所有样本统一计算；前者适合关注小类别。\n",
        "\n",
        "5. **为什么 R² 可为负？**  \n",
        "   当模型预测效果还不如用均值预测时，R² 可能小于 0，表示完全不拟合。\n"
      ],
      "metadata": {
        "id": "s_Y23HxFBsJ-"
      }
    },
    {
      "cell_type": "markdown",
      "source": [
        "## 📦 Confusion Matrix（混淆矩阵）\n",
        "\n",
        "### 🧭 介绍\n",
        "混淆矩阵（Confusion Matrix）是分类模型最基础的性能评估工具，展示模型在正负类上的预测效果，几乎所有分类指标（如 Precision、Recall、F1）都由它推导而来。\n",
        "\n",
        "---\n",
        "\n",
        "### 🧱 矩阵结构（以二分类为例）\n",
        "\n",
        "|                 | **预测为正类** | **预测为负类** |\n",
        "|-----------------|----------------|----------------|\n",
        "| **实际为正类**     | TP（真正例）       | FN（假负例）       |\n",
        "| **实际为负类**     | FP（假正例）       | TN（真负例）       |\n",
        "\n",
        "- **TP**：预测为正且实际为正\n",
        "- **FP**：预测为正但实际为负\n",
        "- **FN**：预测为负但实际为正\n",
        "- **TN**：预测为负且实际为负\n",
        "\n",
        "---\n",
        "\n",
        "### 📌 如何理解？\n",
        "\n",
        "- 一个好的模型应该有 **TP 和 TN 多，FP 和 FN 少**\n",
        "- 偏向于正类或负类，会导致 FP 或 FN 偏大\n",
        "- 混淆矩阵是理解 Precision、Recall、F1-score 的关键基础\n",
        "\n",
        "---\n",
        "\n",
        "### 🎯 面试常见问题（含简答）\n",
        "\n",
        "1. **Confusion Matrix 和 Accuracy 的关系？**  \n",
        "   Accuracy = (TP + TN) / 所有样本数，是混淆矩阵的总体正确率。\n",
        "\n",
        "2. **如何从 Confusion Matrix 计算 Precision？**  \n",
        "   Precision = TP / (TP + FP)，即“被判为正类中真正为正的比例”。\n",
        "\n",
        "3. **Recall 是什么？和 FN 有关吗？**  \n",
        "   Recall = TP / (TP + FN)，即“实际为正类中被成功预测的比例”。\n",
        "\n",
        "4. **什么时候 FP 比 FN 更重要？**  \n",
        "   如垃圾邮件检测中，正常邮件误判为垃圾（FP）是更严重的错误。\n",
        "\n",
        "5. **什么时候 FN 比 FP 更重要？**  \n",
        "   如癌症检测中，漏掉一个患癌患者（FN）后果更严重。\n",
        "\n"
      ],
      "metadata": {
        "id": "jBLf5syXC99V"
      }
    },
    {
      "cell_type": "code",
      "source": [
        "from sklearn.model_selection import train_test_split\n",
        "from sklearn.datasets import make_classification\n",
        "from sklearn.linear_model import LogisticRegression\n",
        "\n",
        "# 生成一个二分类数据集\n",
        "X, y = make_classification(n_samples=500, n_features=10, n_informative=5, random_state=42)\n",
        "X_train, X_test, y_train, y_test = train_test_split(X, y, test_size=0.3, random_state=42)\n",
        "\n",
        "# 拟合模型\n",
        "clf = LogisticRegression()\n",
        "clf.fit(X_train, y_train)\n",
        "y_pred = clf.predict(X_test)"
      ],
      "metadata": {
        "id": "2cFwMQYzDGjI"
      },
      "execution_count": 3,
      "outputs": []
    },
    {
      "cell_type": "code",
      "execution_count": 4,
      "metadata": {
        "colab": {
          "base_uri": "https://localhost:8080/",
          "height": 472
        },
        "id": "XAM0AIPFBllG",
        "outputId": "4c158516-e378-4a1a-f98e-774c5a93b011"
      },
      "outputs": [
        {
          "output_type": "display_data",
          "data": {
            "text/plain": [
              "<Figure size 640x480 with 2 Axes>"
            ],
            "image/png": "[encoded data removed]"
          },
          "metadata": {}
        }
      ],
      "source": [
        "# sklearn 示例：混淆矩阵计算 + 热力图可视化\n",
        "from sklearn.metrics import confusion_matrix, ConfusionMatrixDisplay\n",
        "import matplotlib.pyplot as plt\n",
        "\n",
        "# 混淆矩阵计算\n",
        "cm = confusion_matrix(y_test, y_pred)\n",
        "\n",
        "# 可视化\n",
        "disp = ConfusionMatrixDisplay(confusion_matrix=cm, display_labels=clf.classes_)\n",
        "disp.plot(cmap='Blues')\n",
        "plt.title('Confusion Matrix')\n",
        "plt.show()\n"
      ]
    },
    {
      "cell_type": "markdown",
      "source": [
        "## 📦 分类核心指标（Accuracy / Precision / Recall / F1 / Specificity）\n",
        "\n",
        "这些指标都是从 Confusion Matrix 派生出来的，能从不同角度衡量分类模型的表现，尤其是在类别不平衡场景下需要权衡使用。\n",
        "\n",
        "---\n",
        "\n",
        "### 📐 公式定义（基于 TP, FP, FN, TN）\n",
        "\n",
        "| 指标         | 公式                                     | 含义                                   |\n",
        "|--------------|------------------------------------------|----------------------------------------|\n",
        "| Accuracy     | $(TP + TN) / (TP + FP + FN + TN)$         | 模型整体预测正确的比例                 |\n",
        "| Precision    | $TP / (TP + FP)$                         | 被判为正类中，实际为正的比例           |\n",
        "| Recall       | $TP / (TP + FN)$                         | 实际为正类中，被成功识别的比例         |\n",
        "| Specificity  | $TN / (TN + FP)$                         | 实际为负类中，被成功识别为负的比例     |\n",
        "| F1-score     | $2 \\cdot \\frac{Precision \\cdot Recall}{Precision + Recall}$ | Precision 和 Recall 的调和平均 |\n",
        "\n",
        "---\n",
        "\n",
        "### 🎯 指标使用建议\n",
        "\n",
        "| 场景                                   | 推荐指标         | 原因说明                            |\n",
        "|----------------------------------------|------------------|-------------------------------------|\n",
        "| 类别平衡、对正负类同等重视              | Accuracy          | 简单直观                            |\n",
        "| 更关注正类的预测是否可靠（如医学诊断）     | Precision          | FP 代价高                           |\n",
        "| 更关注正类是否都被识别（如疾病筛查）       | Recall             | FN 代价高                           |\n",
        "| 综合考虑 Precision 和 Recall           | F1-score           | 两者权衡适用                        |\n",
        "| 关注负类识别能力（如正常 vs 异常）        | Specificity        | TN 为关键                           |\n",
        "\n",
        "---\n",
        "\n",
        "### 🎯 面试常见问题（含简答）\n",
        "\n",
        "1. **Precision 和 Recall 哪个更重要？**  \n",
        "   取决于应用。Precision 强调“可信度”，Recall 强调“覆盖率”。\n",
        "\n",
        "2. **F1-score 是什么？为什么使用它？**  \n",
        "   它是 Precision 和 Recall 的调和平均，用于在两者都重要时做折中。\n",
        "\n",
        "3. **为什么 Accuracy 不适合用于不平衡数据？**  \n",
        "   因为它可能被多数类主导，比如 95% 的负类全预测对，Accuracy = 95%，但模型没学到正类。\n",
        "\n",
        "4. **如何理解 Specificity？**  \n",
        "   它是负类的 Recall，衡量负类被正确识别的比例，常用于二分类诊断类问题。\n",
        "\n",
        "5. **是否 Precision 高就代表模型更好？**  \n",
        "   不一定，Precision 高但 Recall 低说明模型“保守”，漏掉很多正类。\n"
      ],
      "metadata": {
        "id": "2Phc51-vDc8M"
      }
    },
    {
      "cell_type": "code",
      "source": [
        "from sklearn.metrics import (\n",
        "    accuracy_score, precision_score, recall_score,\n",
        "    f1_score, confusion_matrix\n",
        ")\n",
        "\n",
        "# 已有模型输出：y_test, y_pred（使用上一个 LogisticRegression）\n",
        "\n",
        "# 计算基础指标\n",
        "acc = accuracy_score(y_test, y_pred)\n",
        "prec = precision_score(y_test, y_pred)\n",
        "rec = recall_score(y_test, y_pred)\n",
        "f1 = f1_score(y_test, y_pred)\n",
        "\n",
        "# 从混淆矩阵提取 Specificity\n",
        "cm = confusion_matrix(y_test, y_pred)\n",
        "tn, fp, fn, tp = cm.ravel()\n",
        "spec = tn / (tn + fp)\n",
        "\n",
        "# 打印所有指标\n",
        "print(f\"Accuracy     : {acc:.3f}\")\n",
        "print(f\"Precision    : {prec:.3f}\")\n",
        "print(f\"Recall       : {rec:.3f}\")\n",
        "print(f\"F1-score     : {f1:.3f}\")\n",
        "print(f\"Specificity  : {spec:.3f}\")\n"
      ],
      "metadata": {
        "colab": {
          "base_uri": "https://localhost:8080/"
        },
        "id": "YmsptvnaDeu0",
        "outputId": "23ee81f4-976e-4955-9ab0-bc3129a8bb08"
      },
      "execution_count": 6,
      "outputs": [
        {
          "output_type": "stream",
          "name": "stdout",
          "text": [
            "Accuracy     : 0.820\n",
            "Precision    : 0.877\n",
            "Recall       : 0.780\n",
            "F1-score     : 0.826\n",
            "Specificity  : 0.868\n"
          ]
        }
      ]
    },
    {
      "cell_type": "code",
      "source": [
        "#不使用sklearn 手撕版本\n",
        "\n",
        "import numpy as np\n",
        "\n",
        "def compute_metrics_manual(y_true, y_pred):\n",
        "    \"\"\"\n",
        "    手撕版本计算 Accuracy, Precision, Recall, F1, Specificity\n",
        "    参数:\n",
        "        y_true: 实际标签，0 或 1\n",
        "        y_pred: 预测标签，0 或 1\n",
        "    返回:\n",
        "        字典，包含所有指标\n",
        "    \"\"\"\n",
        "    y_true = np.array(y_true)\n",
        "    y_pred = np.array(y_pred)\n",
        "\n",
        "    TP = np.sum((y_pred == 1) & (y_true == 1))\n",
        "    FP = np.sum((y_pred == 1) & (y_true == 0))\n",
        "    FN = np.sum((y_pred == 0) & (y_true == 1))\n",
        "    TN = np.sum((y_pred == 0) & (y_true == 0))\n",
        "\n",
        "    accuracy = (TP + TN) / (TP + FP + FN + TN)\n",
        "    precision = TP / (TP + FP) if (TP + FP) > 0 else 0.0\n",
        "    recall = TP / (TP + FN) if (TP + FN) > 0 else 0.0\n",
        "    specificity = TN / (TN + FP) if (TN + FP) > 0 else 0.0\n",
        "    f1 = 2 * precision * recall / (precision + recall) if (precision + recall) > 0 else 0.0\n",
        "\n",
        "    return {\n",
        "        \"Accuracy\": accuracy,\n",
        "        \"Precision\": precision,\n",
        "        \"Recall\": recall,\n",
        "        \"F1-score\": f1,\n",
        "        \"Specificity\": specificity\n",
        "    }\n",
        "\n",
        "# 示例使用\n",
        "metrics = compute_metrics_manual(y_test, y_pred)\n",
        "for k, v in metrics.items():\n",
        "    print(f\"{k:12}: {v:.3f}\")\n"
      ],
      "metadata": {
        "colab": {
          "base_uri": "https://localhost:8080/"
        },
        "id": "F5rcu8BkDqS_",
        "outputId": "d91bdec4-5948-4e81-8c8e-ce4cf709b5b1"
      },
      "execution_count": 7,
      "outputs": [
        {
          "output_type": "stream",
          "name": "stdout",
          "text": [
            "Accuracy    : 0.820\n",
            "Precision   : 0.877\n",
            "Recall      : 0.780\n",
            "F1-score    : 0.826\n",
            "Specificity : 0.868\n"
          ]
        }
      ]
    },
    {
      "cell_type": "markdown",
      "source": [
        "## 📦 ROC 曲线 & Precision-Recall 曲线（含 AUC）\n",
        "\n",
        "### 🧭 介绍\n",
        "在概率型分类器中（如逻辑回归、树模型），输出的是正类概率而非直接标签。此时通过**改变阈值**可以得到不同的分类效果，ROC 曲线和 PR 曲线用于分析模型在不同阈值下的整体表现。\n",
        "\n",
        "---\n",
        "\n",
        "### 📐 定义与区别\n",
        "\n",
        "| 曲线类型         | 横轴              | 纵轴                | 特点与用途                             |\n",
        "|------------------|-------------------|---------------------|----------------------------------------|\n",
        "| ROC 曲线          | FPR（假正率）      | TPR（真正率 = Recall） | 衡量正负类总体区分能力，偏向均衡数据         |\n",
        "| PR 曲线           | Recall（召回率）   | Precision（精确率）   | 更适合不平衡数据，强调正类预测质量             |\n",
        "\n",
        "- **AUC**：曲线下的面积（Area Under Curve）\n",
        "    - ROC-AUC 值越接近 1，模型越优秀\n",
        "    - PR-AUC 更关注正类召回-精确的综合能力\n",
        "\n",
        "---\n",
        "\n",
        "### 🎯 使用建议\n",
        "\n",
        "| 场景                      | 推荐曲线         |\n",
        "|---------------------------|------------------|\n",
        "| 类别基本均衡                | ROC Curve        |\n",
        "| 正负类别极不均衡（如欺诈检测） | PR Curve         |\n",
        "\n",
        "---\n",
        "\n",
        "### 🎯 面试常见问题（含简答）\n",
        "\n",
        "1. **ROC 曲线和 PR 曲线的核心区别？**  \n",
        "   ROC 衡量正负类整体可分性，PR 更关注正类预测表现（精确 + 覆盖）。\n",
        "\n",
        "2. **什么时候使用 PR 曲线比 ROC 更好？**  \n",
        "   当正类很少（如诈骗检测、疾病筛查）时，ROC 易被负类主导，应用 PR。\n",
        "\n",
        "3. **AUC 接近 0.5 是什么情况？**  \n",
        "   表示模型没有区分能力，相当于随机猜测。\n",
        "\n",
        "4. **AUC 能反映实际阈值下的表现吗？**  \n",
        "   不能。它是所有可能阈值下的整体能力，需要结合具体阈值使用指标如 F1。\n",
        "\n",
        "5. **为什么 PR 曲线更难“看起来好”？**  \n",
        "   因为 Precision 通常下降很快，特别在 Recall 较高时，很容易下滑。\n",
        "\n"
      ],
      "metadata": {
        "id": "ikep4OPlEGJu"
      }
    },
    {
      "cell_type": "code",
      "source": [
        "from sklearn.metrics import (\n",
        "    roc_curve, roc_auc_score,\n",
        "    precision_recall_curve, average_precision_score\n",
        ")\n",
        "\n",
        "# 模型输出概率（而不是标签）\n",
        "y_proba = clf.predict_proba(X_test)[:, 1]\n",
        "\n",
        "# ROC 曲线与 AUC\n",
        "fpr, tpr, _ = roc_curve(y_test, y_proba)\n",
        "roc_auc = roc_auc_score(y_test, y_proba)\n",
        "\n",
        "plt.figure(figsize=(6, 5))\n",
        "plt.plot(fpr, tpr, label=f'ROC Curve (AUC = {roc_auc:.2f})')\n",
        "plt.plot([0, 1], [0, 1], 'k--', label='Random')\n",
        "plt.xlabel('False Positive Rate')\n",
        "plt.ylabel('True Positive Rate (Recall)')\n",
        "plt.title('ROC Curve')\n",
        "plt.legend()\n",
        "plt.grid(True)\n",
        "plt.show()\n",
        "\n",
        "# Precision-Recall 曲线与 AUC\n",
        "prec, rec, _ = precision_recall_curve(y_test, y_proba)\n",
        "pr_auc = average_precision_score(y_test, y_proba)\n",
        "\n",
        "plt.figure(figsize=(6, 5))\n",
        "plt.plot(rec, prec, label=f'PR Curve (AUC = {pr_auc:.2f})')\n",
        "plt.xlabel('Recall')\n",
        "plt.ylabel('Precision')\n",
        "plt.title('Precision-Recall Curve')\n",
        "plt.legend()\n",
        "plt.grid(True)\n",
        "plt.show()\n"
      ],
      "metadata": {
        "colab": {
          "base_uri": "https://localhost:8080/",
          "height": 957
        },
        "id": "47Ud5UGzEIGT",
        "outputId": "a9a40a30-dbda-475a-fb05-7a009fd3a5ae"
      },
      "execution_count": 9,
      "outputs": [
        {
          "output_type": "display_data",
          "data": {
            "text/plain": [
              "<Figure size 600x500 with 1 Axes>"
            ],
            "image/png": "[encoded data removed]"
          },
          "metadata": {}
        },
        {
          "output_type": "display_data",
          "data": {
            "text/plain": [
              "<Figure size 600x500 with 1 Axes>"
            ],
            "image/png": "[encoded data removed]"
          },
          "metadata": {}
        }
      ]
    },
    {
      "cell_type": "markdown",
      "source": [
        "## 📦 多分类与多标签扩展指标\n",
        "\n",
        "在多分类任务中，传统二分类指标（Precision、Recall、F1）需要通过聚合方式扩展。常见策略包括 **Macro / Micro / Weighted**。对于多标签任务，还引入了 **Hamming Loss** 等新指标。\n",
        "\n",
        "---\n",
        "\n",
        "### 📐 一、Macro / Micro / Weighted Averaging\n",
        "\n",
        "| 类型       | 计算方法说明                                                                 | 适合场景                  |\n",
        "|------------|------------------------------------------------------------------------------|---------------------------|\n",
        "| Macro      | 对每个类别分别计算指标，然后取平均                                           | 类别均等关注               |\n",
        "| Micro      | 将所有样本统一看待，汇总 TP/FP/FN 后计算                                      | 样本权重相等，偏向大类     |\n",
        "| Weighted   | 类似 Macro，但每类按支持度加权（样本数多的类权重大）                          | 同时考虑类别分布与表现     |\n",
        "\n",
        "---\n",
        "\n",
        "### 📐 二、Top-K Accuracy（常用于图像/推荐）\n",
        "\n",
        "- 判断预测结果的前 $k$ 个中是否包含真实标签\n",
        "- 例如图像分类中 Top-5 Accuracy = 模型前5个预测中是否含真值\n",
        "\n",
        "---\n",
        "\n",
        "### 📐 三、Hamming Loss（多标签专用）\n",
        "\n",
        "- 衡量标签预测的**错误率**，即“预测错误标签数 / 总标签数”\n",
        "- 越小越好，范围 [0, 1]\n",
        "\n",
        "$$\n",
        "\\text{Hamming Loss} = \\frac{1}{n_{\\text{samples}} \\cdot n_{\\text{labels}}} \\sum_{i=1}^{n} \\text{xor}(y_i, \\hat{y}_i)\n",
        "$$\n",
        "\n",
        "---\n",
        "\n",
        "### 🎯 面试常见问题（含简答）\n",
        "\n",
        "1. **Macro F1 和 Micro F1 的主要区别？**  \n",
        "   Macro 是类别平均，Micro 是样本级总和，前者强调小类，后者偏向大类。\n",
        "\n",
        "2. **什么时候使用 Weighted F1？**  \n",
        "   当类别分布极度不平衡，但你仍希望综合考虑表现时。\n",
        "\n",
        "3. **Top-K Accuracy 应用于哪些任务？**  \n",
        "   图像分类（如 ImageNet）、推荐系统等多类输出场景。\n",
        "\n",
        "4. **Hamming Loss 为什么适合多标签？**  \n",
        "   因为它考虑每个标签是否独立预测正确，支持多标签向量比较。\n",
        "\n",
        "5. **多分类 Precision 和 Recall 如何扩展？**  \n",
        "   需要指定 `average='macro'`, `'micro'`, `'weighted'` 等策略。\n",
        "\n"
      ],
      "metadata": {
        "id": "bXMoS2amE26f"
      }
    },
    {
      "cell_type": "code",
      "source": [
        "from sklearn.datasets import load_iris\n",
        "from sklearn.linear_model import LogisticRegression\n",
        "from sklearn.model_selection import train_test_split\n",
        "from sklearn.metrics import classification_report, top_k_accuracy_score\n",
        "from sklearn.preprocessing import label_binarize\n",
        "\n",
        "# 使用 Iris 数据集（3类多分类）\n",
        "X, y = load_iris(return_X_y=True)\n",
        "X_train, X_test, y_train, y_test = train_test_split(X, y, random_state=42)\n",
        "\n",
        "# 训练多分类模型\n",
        "clf = LogisticRegression(max_iter=200)\n",
        "clf.fit(X_train, y_train)\n",
        "y_pred = clf.predict(X_test)\n",
        "y_proba = clf.predict_proba(X_test)\n",
        "\n",
        "# 打印多分类报告（包含 macro/micro/weighted）\n",
        "print(classification_report(y_test, y_pred, digits=3))\n",
        "\n",
        "# Top-K Accuracy 示例（Top-2 是否命中真实标签）\n",
        "topk_acc = top_k_accuracy_score(y_test, y_proba, k=2)\n",
        "print(f\"Top-2 Accuracy: {topk_acc:.3f}\")\n"
      ],
      "metadata": {
        "colab": {
          "base_uri": "https://localhost:8080/"
        },
        "id": "18Q61KgNE4TJ",
        "outputId": "253c8bb7-feac-4a08-eb28-e8cf563102da"
      },
      "execution_count": 10,
      "outputs": [
        {
          "output_type": "stream",
          "name": "stdout",
          "text": [
            "              precision    recall  f1-score   support\n",
            "\n",
            "           0      1.000     1.000     1.000        15\n",
            "           1      1.000     1.000     1.000        11\n",
            "           2      1.000     1.000     1.000        12\n",
            "\n",
            "    accuracy                          1.000        38\n",
            "   macro avg      1.000     1.000     1.000        38\n",
            "weighted avg      1.000     1.000     1.000        38\n",
            "\n",
            "Top-2 Accuracy: 1.000\n"
          ]
        }
      ]
    },
    {
      "cell_type": "markdown",
      "source": [
        "## 📦 回归模型评估指标（非损失函数）\n",
        "\n",
        "回归任务中，我们不再用 Precision / Recall，而是使用反映预测拟合程度的指标来评估模型性能。这些指标衡量的是模型输出与实际值的接近程度。\n",
        "\n",
        "---\n",
        "\n",
        "### 📐 1. R² Score（决定系数）\n",
        "\n",
        "$$\n",
        "R^2 = 1 - \\frac{SS_{\\text{res}}}{SS_{\\text{tot}}}\n",
        "= 1 - \\frac{\\sum (y_i - \\hat{y}_i)^2}{\\sum (y_i - \\bar{y})^2}\n",
        "$$\n",
        "\n",
        "- 取值范围通常在 $(-\\infty, 1]$，越接近 1 表示模型拟合越好\n",
        "- 如果模型连平均值都不如，$R^2 < 0$\n",
        "\n",
        "---\n",
        "\n",
        "### 📐 2. Adjusted R²（调整后的决定系数）\n",
        "\n",
        "$$\n",
        "\\text{Adjusted } R^2 = 1 - \\left(1 - R^2\\right) \\cdot \\frac{n - 1}{n - p - 1}\n",
        "$$\n",
        "\n",
        "- $n$ 为样本数，$p$ 为特征数\n",
        "- 惩罚模型复杂度，防止加入无用特征后 $R^2$ 虚高\n",
        "\n",
        "---\n",
        "\n",
        "### 📐 3. Explained Variance Score（解释方差）\n",
        "\n",
        "$$\n",
        "\\text{EVS} = 1 - \\frac{\\text{Var}(y - \\hat{y})}{\\text{Var}(y)}\n",
        "$$\n",
        "\n",
        "- 衡量模型解释数据变异程度\n",
        "- 与 R² 相似，但更关注方差层面而非残差平方和\n",
        "\n",
        "---\n",
        "\n",
        "### 🎯 面试常见问题（含简答）\n",
        "\n",
        "1. **R² 值为负说明什么？**  \n",
        "   模型拟合还不如直接用均值预测（残差太大）。\n",
        "\n",
        "2. **R² 和 Adjusted R² 的区别？**  \n",
        "   Adjusted R² 考虑特征数，惩罚过多无用特征，防止虚高。\n",
        "\n",
        "3. **什么时候使用 Explained Variance 而非 R²？**  \n",
        "   当更关注预测结果是否捕捉数据波动性而非精确值时。\n",
        "\n",
        "4. **模型拟合得很好，R² 但仍 < 1，是为什么？**  \n",
        "   存在噪声、数据不可解释成完全线性趋势、欠拟合等都可能导致 R² < 1。\n",
        "\n",
        "5. **R² 能单独用于模型好坏评估吗？**  \n",
        "   不能。它不考虑过拟合、特征数等问题，需结合验证集/交叉验证等使用。\n"
      ],
      "metadata": {
        "id": "C52TlPk7FeRx"
      }
    },
    {
      "cell_type": "code",
      "source": [
        "from sklearn.datasets import make_regression\n",
        "from sklearn.linear_model import LinearRegression\n",
        "from sklearn.metrics import r2_score, explained_variance_score\n",
        "import numpy as np\n",
        "\n",
        "# 生成带噪声的回归数据\n",
        "X, y = make_regression(n_samples=100, n_features=3, noise=15, random_state=42)\n",
        "model = LinearRegression()\n",
        "model.fit(X, y)\n",
        "y_pred = model.predict(X)\n",
        "\n",
        "# R²\n",
        "r2 = r2_score(y, y_pred)\n",
        "\n",
        "# Adjusted R²\n",
        "n = X.shape[0]\n",
        "p = X.shape[1]\n",
        "adj_r2 = 1 - (1 - r2) * (n - 1) / (n - p - 1)\n",
        "\n",
        "# Explained Variance Score\n",
        "evs = explained_variance_score(y, y_pred)\n",
        "\n",
        "# 输出结果\n",
        "print(f\"R² Score               : {r2:.3f}\")\n",
        "print(f\"Adjusted R² Score      : {adj_r2:.3f}\")\n",
        "print(f\"Explained Variance     : {evs:.3f}\")\n"
      ],
      "metadata": {
        "colab": {
          "base_uri": "https://localhost:8080/"
        },
        "id": "vUlGuMG6FfDw",
        "outputId": "d37a75eb-fa42-470d-e039-119e77c278a7"
      },
      "execution_count": 11,
      "outputs": [
        {
          "output_type": "stream",
          "name": "stdout",
          "text": [
            "R² Score               : 0.968\n",
            "Adjusted R² Score      : 0.967\n",
            "Explained Variance     : 0.968\n"
          ]
        }
      ]
    }
  ]
}