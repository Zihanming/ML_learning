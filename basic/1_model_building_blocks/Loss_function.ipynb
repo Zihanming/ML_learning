{
 "nbformat": 4,
 "nbformat_minor": 0,
 "metadata": {
  "colab": {
   "provenance": []
  },
  "kernelspec": {
   "name": "python3",
   "display_name": "Python 3"
  },
  "language_info": {
   "name": "python"
  }
 },
 "cells": [
  {
   "cell_type": "markdown",
   "source": [
    "# 📘 Loss Functions(损失函数)\n",
    "\n",
    "## 1 什么是损失函数？\n",
    "\n",
    "损失函数(Loss Function)是衡量模型输出 $\\hat{y}$ 与真实标签 $y$ 之间差距的函数。\n",
    "\n",
    "它告诉我们模型当前的“错误”程度。训练的目标就是不断优化参数，**最小化损失函数**。\n",
    "\n",
    "---\n",
    "\n",
    "## 2 为什么损失函数很重要？\n",
    "\n",
    "- 是模型学习的目标函数\n",
    "- 决定了训练方向（通过反向传播）\n",
    "- 不同任务使用不同损失（回归 vs 分类）\n",
    "\n",
    "---\n",
    "\n",
    "## 3 损失函数 vs 评估指标\n",
    "\n",
    "| 概念         | 作用                    | 示例 |\n",
    "|--------------|-------------------------|------|\n",
    "| **Loss Function** | 模型训练时最小化目标      | MSE, Cross-Entropy |\n",
    "| **Evaluation Metric** | 评估模型性能，不参与反向传播 | Accuracy, F1, ROC-AUC |\n",
    "\n",
    "---\n",
    "\n",
    "## 4 分类 vs 回归中使用的损失函数\n",
    "\n",
    "| 类型     | 常用损失函数                        |\n",
    "|----------|-------------------------------------|\n",
    "| 回归     | MSE, MAE                            |\n",
    "| 分类（二类） | Cross-Entropy (Log Loss), Hinge Loss |\n",
    "| 多分类   | Categorical Cross-Entropy, Softmax Loss |\n",
    "\n",
    "## 📚 本笔记将系统学习以下常见损失函数：\n",
    "\n",
    "### 🟦 回归任务常用损失函数\n",
    "- **MSE**（Mean Squared Error，均方误差）\n",
    "- **MAE**（Mean Absolute Error，平均绝对误差）\n",
    "- **Huber Loss**（对异常值更鲁棒）\n",
    "- **Log-Cosh Loss**（平滑版本的 MAE）\n",
    "\n",
    "### 🟩 二分类任务常用损失函数\n",
    "- **Binary Cross-Entropy**（对数损失 / 对数似然）\n",
    "- **Hinge Loss**（用于 SVM）\n",
    "- **Focal Loss**（用于类别不平衡问题）\n",
    "\n",
    "### 🟨 多分类任务常用损失函数\n",
    "- **Categorical Cross-Entropy**\n",
    "- **Sparse Categorical Cross-Entropy**\n",
    "- **Kullback–Leibler Divergence**（KL 散度）\n"
   ],
   "metadata": {
    "id": "XGaO-jOnIl9M"
   }
  },
  {
   "cell_type": "markdown",
   "source": [
    "回归Loss Function\n"
   ],
   "metadata": {
    "id": "nOtDrPwTYWAm"
   }
  },
  {
   "cell_type": "markdown",
   "source": [
    "### 1. MSE（Mean Squared Error，均方误差）\n",
    "\n",
    "---\n",
    "\n",
    "**定义**：SSE 是所有预测值与真实值之间误差的平方之和，是回归模型衡量拟合误差的重要指标之一。\n",
    "\n",
    "$$\n",
    "\\text{SSE} = \\sum_{i=1}^{m} \\left( y^{(i)} - \\hat{y}^{(i)} \\right)^2\n",
    "$$\n",
    "\n",
    "**定义**：\n",
    "MSE 衡量预测值与真实值的平方差的平均值，是最常见的回归损失函数之一。\n",
    "\n",
    "$$\n",
    "\\text{MSE} = \\frac{1}{m} \\sum_{i=1}^{m} \\left( y^{(i)} - \\hat{y}^{(i)} \\right)^2\n",
    "$$\n",
    "\n",
    "\n",
    "---\n",
    "\n",
    "**定义**：RMSE（均方根误差）是 MSE 的平方根，用于衡量预测值与真实值之间的平均差距，单位与原始目标值一致。\n",
    "\n",
    "$$\n",
    "\\text{RMSE} = \\sqrt{ \\frac{1}{m} \\sum_{i=1}^{m} \\left( y^{(i)} - \\hat{y}^{(i)} \\right)^2 }\n",
    "$$\n",
    "\n",
    "---\n",
    "\n",
    "## 三者共有特性：\n",
    "\n",
    "- 对大误差非常敏感（误差平方项）\n",
    "- 对异常值（outlier）不鲁棒\n",
    "- 全部是可导函数（适合用于梯度下降）\n",
    "\n",
    "---\n",
    "\n",
    "## 区别提示：\n",
    "\n",
    "| 函数 | 是否平均 | 单位是否一致 | 实际应用 |\n",
    "|------|----------|---------------|-----------|\n",
    "| SSE  | ❌ 否（总和） | ❌（平方单位） | 回归推导中目标函数 |\n",
    "| MSE  | ✅ 是      | ❌（平方单位） | 最常用训练 loss |\n",
    "| RMSE | ✅ 是      | ✅ 是（与 $y$ 一致） | 用于报告或解释结果 |\n",
    "\n",
    "\n",
    "**应用**：\n",
    "- 房价预测、温度预测等连续值回归任务\n",
    "- 神经网络的回归输出层常使用 MSE\n",
    "\n",
    "---\n",
    "\n",
    "📌 一句话理解：\n",
    "> “MSE 是最常用的回归损失，重惩罚大误差。”\n",
    "\n",
    "### MSE 在分类任务中的缺点（梯度消失）\n",
    "\n",
    "当 MSE 配合 sigmoid 输出用于分类任务时，在输出靠近 0 或 1 时，其导数 $\\sigma'(z)$ 接近 0，导致整体梯度趋近于 0，学习几乎停止。\n",
    "\n",
    "这就是所谓的**梯度消失问题**，如下图所示（蓝线是 sigmoid，紫线是其导数）：\n",
    "\n",
    "📉 解决方法：使用 **Cross-Entropy** 替代 MSE 可避免该问题。"
   ],
   "metadata": {
    "id": "8ue-G83AIkyu"
   }
  },
  {
   "cell_type": "code",
   "source": [
    "import numpy as np\n",
    "from sklearn.metrics import mean_squared_error, root_mean_squared_error\n",
    "\n",
    "# 示例\n",
    "y_true = np.array([3.0, 5.0, 2.5])\n",
    "y_pred = np.array([2.5, 5.5, 2.0])\n",
    "\n",
    "def mse(y_true, y_pred):\n",
    "    \"\"\"\n",
    "    计算均方误差（MSE）\n",
    "\n",
    "    参数:\n",
    "    y_true -- 真实值，形如 (n_samples,)\n",
    "    y_pred -- 预测值，形如 (n_samples,)\n",
    "\n",
    "    返回:\n",
    "    MSE 值（float）\n",
    "    \"\"\"\n",
    "    return np.mean((y_true - y_pred) ** 2)\n",
    "\n",
    "\n",
    "def rmse(y_true, y_pred):\n",
    "    \"\"\"\n",
    "    计算均方根误差（RMSE）\n",
    "\n",
    "    参数:\n",
    "    y_true -- 真实值，形如 (n_samples,)\n",
    "    y_pred -- 预测值，形如 (n_samples,)\n",
    "\n",
    "    返回:\n",
    "    RMSE 值（float）\n",
    "    \"\"\"\n",
    "    mse = np.mean((y_true - y_pred) ** 2)\n",
    "    return np.sqrt(mse)\n",
    "\n",
    "mse_hand = mse(y_true, y_pred)\n",
    "print(\"MSE_hand =\", mse_hand)\n",
    "\n",
    "mse = mean_squared_error(y_true, y_pred)\n",
    "print(\"MSE =\", mse)\n",
    "\n",
    "\n",
    "\n",
    "rmse_hand = rmse(y_true, y_pred)\n",
    "print(\"RMSE_hand =\", rmse_hand)\n",
    "rmse = root_mean_squared_error(y_true, y_pred)\n",
    "print(\"RMSE =\", rmse)"
   ],
   "metadata": {
    "colab": {
     "base_uri": "https://localhost:8080/"
    },
    "id": "VNnviXvKKxUQ",
    "outputId": "b740cd61-265f-4a0a-efd9-c119d281a1fa"
   },
   "execution_count": null,
   "outputs": [
    {
     "output_type": "stream",
     "name": "stdout",
     "text": [
      "MSE_hand = 0.25\n",
      "MSE = 0.25\n",
      "RMSE_hand = 0.5\n",
      "RMSE = 0.5\n"
     ]
    }
   ]
  },
  {
   "cell_type": "markdown",
   "source": [
    "### 2. MAE（Mean Absolute Error，平均绝对误差）\n",
    "\n",
    "---\n",
    "\n",
    "**定义**：MAE 衡量预测值与真实值之间绝对误差的平均值。相比 MSE，MAE 对于异常值更鲁棒（不会放大误差）。\n",
    "\n",
    "$$\n",
    "\\text{MAE} = \\frac{1}{m} \\sum_{i=1}^{m} \\left| y^{(i)} - \\hat{y}^{(i)} \\right|\n",
    "$$\n",
    "\n",
    "---\n",
    "\n",
    "## 主要特性：\n",
    "\n",
    "- ❌ 不放大大误差，对 outlier 更鲁棒  \n",
    "- ❌ 不连续可导（在误差为 0 时不可导）  \n",
    "- ✅ 同样用于回归问题，可度量平均误差的真实大小\n",
    "\n",
    "---\n",
    "\n",
    "## 与 MSE 的对比：\n",
    "\n",
    "| 特性        | MSE                                | MAE                                |\n",
    "|-------------|-------------------------------------|-------------------------------------|\n",
    "| 异常值影响   | 高（放大误差） ✅                   | 低（线性响应） ✅                   |\n",
    "| 可导性       | 连续可导 ✅                         | 在误差为 0 时不可导 ⚠️              |\n",
    "| 优化难度     | 易于优化，常有解析解 ✅              | 对梯度下降不太友好，收敛较慢 ❌     |\n",
    "| 解释性       | 单位为平方 ❌                        | 与目标值单位一致 ✅                  |\n",
    "\n",
    "---\n",
    "\n",
    "## 应用：\n",
    "\n",
    "- 用于对异常值不敏感的回归任务\n",
    "- 在业务指标更关注“平均偏离多少”而不是“偏离平方”的场景下\n",
    "\n",
    "---\n",
    "\n",
    "📌 一句话理解：\n",
    "\n",
    "> “MAE 衡量误差的平均大小，鲁棒但不可导，适合对 outlier 敏感时使用。”\n"
   ],
   "metadata": {
    "id": "3U5gIlE8Tiej"
   }
  },
  {
   "cell_type": "code",
   "source": [
    "import numpy as np\n",
    "from sklearn.metrics import mean_absolute_error\n",
    "\n",
    "# 人工模拟数据\n",
    "y_true = np.array([3.0, -0.5, 2.0, 7.0])\n",
    "y_pred = np.array([2.5, 0.0, 2.0, 8.0])\n",
    "\n",
    "# ✅ 手撕实现\n",
    "def mae_manual(y_true, y_pred):\n",
    "    return np.mean(np.abs(y_true - y_pred))\n",
    "\n",
    "# 🔧 sklearn 实现\n",
    "mae_sklearn = mean_absolute_error(y_true, y_pred)\n",
    "\n",
    "# 输出对比\n",
    "print(\"Manual MAE:\", mae_manual(y_true, y_pred))\n",
    "print(\"Sklearn MAE:\", mae_sklearn)\n"
   ],
   "metadata": {
    "colab": {
     "base_uri": "https://localhost:8080/"
    },
    "id": "2hYPrRSATkR6",
    "outputId": "0c422e99-0d64-4bb8-a852-e5ff385833a2"
   },
   "execution_count": null,
   "outputs": [
    {
     "output_type": "stream",
     "name": "stdout",
     "text": [
      "Manual MAE: 0.5\n",
      "Sklearn MAE: 0.5\n"
     ]
    }
   ]
  },
  {
   "cell_type": "markdown",
   "source": [
    "### 🔍 MSE vs. MAE 对比分析\n",
    "\n",
    "| 属性 | MSE（均方误差） | MAE（平均绝对误差） |\n",
    "|------|------------------|----------------------|\n",
    "| **定义** | 平方差的平均值 | 绝对差的平均值 |\n",
    "| **对误差的敏感度** | 对大误差更敏感，放大异常值影响（平方放大） | 各误差一视同仁，抗异常值能力更强 |\n",
    "| **鲁棒性（Robust）** | 对离群点（outliers）敏感 | 对离群点更鲁棒 |\n",
    "| **梯度特性** | 连续且可导，便于优化 | 在 $y = \\hat{y}$ 处不可导，但可用次梯度处理 |\n",
    "| **几何意义** | 最小化点到预测值的垂直距离的**平方和** | 最小化点到预测值的**绝对距离和** |\n",
    "| **典型应用** | 回归训练阶段（如线性回归、神经网络），对精度敏感的任务 | 噪声较大数据、鲁棒回归、异常检测等任务 |\n",
    "\n",
    "---\n",
    "\n",
    "📌 **总结一句话：**\n",
    "\n",
    "> **MSE** 放大大误差，更适合对精度要求高的场景；  \n",
    "> **MAE** 更鲁棒，适用于含异常值或噪声较多的数据集。\n"
   ],
   "metadata": {
    "id": "OfhFHsl-UboK"
   }
  },
  {
   "cell_type": "code",
   "source": [],
   "metadata": {
    "id": "LsjjSahXVLAE"
   },
   "execution_count": null,
   "outputs": []
  },
  {
   "cell_type": "markdown",
   "source": [
    "### 3. Huber Loss（平滑绝对误差）\n",
    "\n",
    "---\n",
    "\n",
    "#### 📖 定义\n",
    "\n",
    "Huber Loss 是一种结合了 MSE 与 MAE 优点的损失函数：\n",
    "\n",
    "- 小误差时采用 **MSE**（平方损失）\n",
    "- 大误差时采用 **MAE**（绝对值损失）\n",
    "\n",
    "定义如下（$\\delta$ 为阈值）：\n",
    "\n",
    "$$\n",
    "\\mathcal{L}_\\delta(y, \\hat{y}) =\n",
    "\\begin{cases}\n",
    "\\frac{1}{2}(y - \\hat{y})^2 & \\text{if } |y - \\hat{y}| \\leq \\delta \\\\\\\\\n",
    "\\delta \\cdot \\left( |y - \\hat{y}| - \\frac{1}{2} \\delta \\right) & \\text{otherwise}\n",
    "\\end{cases}\n",
    "$$\n",
    "\n",
    "---\n",
    "\n",
    "#### ⚙️ 参数说明\n",
    "\n",
    "- $\\delta$：切换点，决定误差多大时从 MSE 切换为 MAE\n",
    "  - 默认通常设为 $1.0$\n",
    "  - 越小越鲁棒，越大越平滑\n",
    "\n",
    "---\n",
    "\n",
    "#### ✅ 特性总结\n",
    "\n",
    "| 特性               | 描述                                   |\n",
    "|--------------------|----------------------------------------|\n",
    "| 对离群值鲁棒性     | ✅ 高                                   |\n",
    "| 是否连续可导       | ✅ 是（在所有点处都可导）               |\n",
    "| 是否带单位         | ✅ 与标签单位一致                      |\n",
    "| 平滑程度可调       | ✅ 通过 $\\delta$ 控制平滑/鲁棒性权衡     |\n",
    "\n",
    "---\n",
    "\n",
    "#### 📌 一句话理解：\n",
    "\n",
    "> “Huber Loss 是一位懂得平衡的损失函数 —— 小错较真，大错包容。”\n"
   ],
   "metadata": {
    "id": "wY0IbH4ZUgSI"
   }
  },
  {
   "cell_type": "code",
   "source": [
    "import numpy as np\n",
    "import matplotlib.pyplot as plt\n",
    "\n",
    "def huber_loss(y_true, y_pred, delta=1.0):\n",
    "    \"\"\"\n",
    "    实现 Huber Loss\n",
    "\n",
    "    参数:\n",
    "    y_true -- 真实值\n",
    "    y_pred -- 预测值\n",
    "    delta  -- 切换点，默认 1.0\n",
    "\n",
    "    返回:\n",
    "    平均 Huber Loss（float）\n",
    "    \"\"\"\n",
    "    error = y_true - y_pred\n",
    "    is_small_error = np.abs(error) <= delta\n",
    "\n",
    "    squared_loss = 0.5 * (error ** 2)\n",
    "    linear_loss = delta * (np.abs(error) - 0.5 * delta)\n",
    "\n",
    "    return np.mean(np.where(is_small_error, squared_loss, linear_loss))\n",
    "\n",
    "\n",
    "# 示例数据\n",
    "y_true = np.array([1.0, 2.0, 3.0, 100.0])\n",
    "y_pred = np.array([1.1, 1.9, 3.2, 4.0])\n",
    "\n",
    "# 不同 delta 值下的 loss\n",
    "deltas = np.linspace(0.1, 10, 50)\n",
    "losses = [huber_loss(y_true, y_pred, delta=d) for d in deltas]\n",
    "\n",
    "# 可视化\n",
    "plt.figure(figsize=(8, 5))\n",
    "plt.plot(deltas, losses, marker='o')\n",
    "plt.title('Huber Loss vs Delta')\n",
    "plt.xlabel('Delta')\n",
    "plt.ylabel('Huber Loss')\n",
    "plt.grid(True)\n",
    "plt.tight_layout()\n",
    "plt.show()\n"
   ],
   "metadata": {
    "colab": {
     "base_uri": "https://localhost:8080/",
     "height": 507
    },
    "id": "dpe6tth7VC7z",
    "outputId": "7f8e6066-7279-431a-a65b-fe1d9cbb8514"
   },
   "execution_count": null,
   "outputs": [
    {
     "output_type": "display_data",
     "data": {
      "text/plain": [
       "<Figure size 800x500 with 1 Axes>"
      ],
      "image/png": "[encoded data removed]"
     },
     "metadata": {}
    }
   ]
  },
  {
   "cell_type": "markdown",
   "source": [
    "### 4. Log-Cosh Loss（对数双曲余弦损失）\n",
    "\n",
    "---\n",
    "\n",
    "#### 📖 定义\n",
    "\n",
    "Log-Cosh Loss 是一种介于 **MSE** 与 **MAE** 之间的平滑损失函数：\n",
    "\n",
    "- 当误差很小时，它近似于 $\\frac{1}{2}(y - \\hat{y})^2$（即 MSE）\n",
    "- 当误差很大时，它近似于 $|y - \\hat{y}|$（即 MAE）\n",
    "\n",
    "定义如下：\n",
    "\n",
    "$$\n",
    "\\mathcal{L}_{\\text{logcosh}} = \\sum_{i=1}^m \\log \\left( \\cosh\\left( y^{(i)} - \\hat{y}^{(i)} \\right) \\right)\n",
    "$$\n",
    "\n",
    "其中：\n",
    "\n",
    "- $\\cosh(x) = \\frac{e^x + e^{-x}}{2}$ 是双曲余弦函数\n",
    "- $\\log(\\cosh(x))$ 在 $x \\to 0$ 附近近似为 $\\frac{x^2}{2}$，而 $x \\to \\infty$ 时近似为 $|x|$\n",
    "\n",
    "---\n",
    "\n",
    "#### ✅ 特性总结\n",
    "\n",
    "| 特性             | 描述                                              |\n",
    "|------------------|---------------------------------------------------|\n",
    "| 对 outlier 鲁棒  | ✅（近似 MAE）                                     |\n",
    "| 是否连续可导     | ✅（相比 MAE 更适合梯度下降）                     |\n",
    "| 数值稳定性       | ✅（相比 Huber 更平滑，无需手动调 delta）         |\n",
    "| 训练表现         | ✅ 回归任务中效果稳定，适用于含轻微噪声的数据      |\n",
    "\n",
    "---\n",
    "\n",
    "#### 📌 一句话理解：\n",
    "\n",
    "> “Log-Cosh 是一个自动平衡 MSE 和 MAE 的平滑损失函数：小误差近似 MSE，大误差近似 MAE。”\n"
   ],
   "metadata": {
    "id": "XHQN4FX1YbuB"
   }
  },
  {
   "cell_type": "code",
   "source": [
    "import numpy as np\n",
    "\n",
    "def log_cosh_loss(y_true, y_pred):\n",
    "    \"\"\"\n",
    "    实现 log-cosh 损失函数\n",
    "\n",
    "    参数:\n",
    "    y_true -- 真实标签数组 (n,)\n",
    "    y_pred -- 预测值数组 (n,)\n",
    "\n",
    "    返回:\n",
    "    平均 log-cosh 损失（float）\n",
    "    \"\"\"\n",
    "    error = y_pred - y_true\n",
    "    return np.mean(np.log(np.cosh(error)))  # 直接调用 numpy 的稳定实现\n",
    "\n",
    "# 示例\n",
    "y_true = np.array([3.0, -0.5, 2.0, 7.0])\n",
    "y_pred = np.array([2.5, 0.0, 2.0, 8.0])\n",
    "\n",
    "loss = log_cosh_loss(y_true, y_pred)\n",
    "print(\"Log-Cosh Loss =\", loss)\n"
   ],
   "metadata": {
    "colab": {
     "base_uri": "https://localhost:8080/"
    },
    "id": "LkA2NsPcZ8ZG",
    "outputId": "221520f0-2bf5-4db7-d444-b7adabbf71af"
   },
   "execution_count": null,
   "outputs": [
    {
     "output_type": "stream",
     "name": "stdout",
     "text": [
      "Log-Cosh Loss = 0.1685024610998955\n"
     ]
    }
   ]
  },
  {
   "cell_type": "code",
   "source": [
    "import numpy as np\n",
    "import matplotlib.pyplot as plt\n",
    "\n",
    "# 定义误差范围\n",
    "x = np.linspace(-5, 5, 200)\n",
    "\n",
    "# 计算不同损失函数的值\n",
    "mse = 0.5 * x**2\n",
    "mae = np.abs(x)\n",
    "huber = np.where(np.abs(x) <= 1.0, 0.5 * x**2, 1.0 * (np.abs(x) - 0.5))\n",
    "logcosh = np.log(np.cosh(x))\n",
    "\n",
    "# 画图\n",
    "plt.figure(figsize=(8, 5))\n",
    "plt.plot(x, mse, label=\"MSE (0.5 * x²)\", linestyle=\"--\")\n",
    "plt.plot(x, mae, label=\"MAE (|x|)\", linestyle=\"--\")\n",
    "plt.plot(x, huber, label=\"Huber (δ=1)\", linewidth=2)\n",
    "plt.plot(x, logcosh, label=\"Log-Cosh\", linewidth=2)\n",
    "plt.title(\"MSE vs MAE vs Huber vs Log-Cosh\")\n",
    "plt.xlabel(\"Loss x\")\n",
    "plt.ylabel(\"Loss\")\n",
    "plt.grid(True)\n",
    "plt.legend()\n",
    "plt.tight_layout()\n",
    "plt.show()\n"
   ],
   "metadata": {
    "colab": {
     "base_uri": "https://localhost:8080/",
     "height": 507
    },
    "id": "yGh9ehH5aUJq",
    "outputId": "8864b359-a308-42df-e60e-7702c093b6d1"
   },
   "execution_count": null,
   "outputs": [
    {
     "output_type": "display_data",
     "data": {
      "text/plain": [
       "<Figure size 800x500 with 1 Axes>"
      ],
      "image/png": "[encoded data removed]"
     },
     "metadata": {}
    }
   ]
  },
  {
   "cell_type": "markdown",
   "source": [
    "分类损失函数"
   ],
   "metadata": {
    "id": "1YsH7wEr4Vwa"
   }
  },
  {
   "cell_type": "markdown",
   "source": [
    "### 5. Binary Cross-Entropy（二元交叉熵 / 对数损失）\n",
    "\n",
    "---\n",
    "\n",
    "#### 📖 定义\n",
    "\n",
    "Binary Cross-Entropy（BCE）用于二分类任务，衡量预测概率 $\\hat{y}$ 与真实标签 $y \\in \\{0, 1\\}$ 的差异。\n",
    "\n",
    "其定义为：\n",
    "\n",
    "$$\n",
    "\\mathcal{L}_{\\text{BCE}} = -\\frac{1}{m} \\sum_{i=1}^{m} \\left[ y^{(i)} \\log \\hat{y}^{(i)} + (1 - y^{(i)}) \\log(1 - \\hat{y}^{(i)}) \\right]\n",
    "$$\n",
    "\n",
    "其中：\n",
    "- $\\hat{y}^{(i)}$ 是第 $i$ 个样本属于正类的预测概率（通常为 sigmoid 输出）\n",
    "- $y^{(i)} \\in \\{0, 1\\}$ 是真实标签\n",
    "\n",
    "---\n",
    "\n",
    "#### ✅ 特性总结\n",
    "\n",
    "| 特性               | 描述                                                 |\n",
    "|--------------------|------------------------------------------------------|\n",
    "| 输出限制           | 预测值 $\\hat{y} \\in (0, 1)$，需搭配 sigmoid 激活       |\n",
    "| 对预测置信度敏感   | 预测错误且置信度越高，惩罚越大                       |\n",
    "| 是否连续可导       | ✅ 是                                                  |\n",
    "| 是否鲁棒           | ❌ 对 outlier 样本（错得离谱）惩罚大                  |\n",
    "\n",
    "---\n",
    "\n",
    "#### 📌 一句话理解：\n",
    "\n",
    "> “Binary Cross-Entropy 逼迫模型尽可能接近真实标签的概率分布，是分类中的黄金标准。”\n"
   ],
   "metadata": {
    "id": "JZ533pPa4Q-9"
   }
  },
  {
   "cell_type": "code",
   "source": [
    "import numpy as np\n",
    "from sklearn.metrics import log_loss\n",
    "\n",
    "def binary_cross_entropy(y_true, y_pred, eps=1e-15):\n",
    "    \"\"\"\n",
    "    手撕实现 Binary Cross-Entropy 损失\n",
    "\n",
    "    参数:\n",
    "    y_true -- 真实标签，值为 0 或 1\n",
    "    y_pred -- 模型输出的预测概率（0~1 之间）\n",
    "    eps -- 防止 log(0) 的数值稳定项\n",
    "\n",
    "    返回:\n",
    "    平均 BCE 损失\n",
    "    \"\"\"\n",
    "    y_pred = np.clip(y_pred, eps, 1 - eps)  # 防止 log(0)\n",
    "    loss = - (y_true * np.log(y_pred) + (1 - y_true) * np.log(1 - y_pred))\n",
    "    return np.mean(loss)\n",
    "\n",
    "# 示例\n",
    "y_true = np.array([0, 1, 1, 0])\n",
    "y_pred = np.array([0.1, 0.9, 0.8, 0.2])\n",
    "\n",
    "# 手撕版本\n",
    "bce_manual = binary_cross_entropy(y_true, y_pred)\n",
    "\n",
    "# sklearn 对比\n",
    "bce_sklearn = log_loss(y_true, y_pred)\n",
    "\n",
    "print(\"Manual BCE:\", bce_manual)\n",
    "print(\"Sklearn BCE:\", bce_sklearn)\n"
   ],
   "metadata": {
    "colab": {
     "base_uri": "https://localhost:8080/"
    },
    "id": "Pnji420K4SvO",
    "outputId": "6e6664c3-daac-480c-eb9c-58c1f2134115"
   },
   "execution_count": null,
   "outputs": [
    {
     "output_type": "stream",
     "name": "stdout",
     "text": [
      "Manual BCE: 0.164252033486018\n",
      "Sklearn BCE: 0.164252033486018\n"
     ]
    }
   ]
  },
  {
   "cell_type": "code",
   "source": [
    "#非binary情况Cross-Entropy实现\n",
    "#Pytorch BCE Loss 也能实现\n",
    "\n",
    "import numpy as np\n",
    "from sklearn.metrics import log_loss\n",
    "\n",
    "def categorical_cross_entropy(y_true, y_pred, eps=1e-15):\n",
    "    \"\"\"\n",
    "    手撕实现 Categorical Cross-Entropy (CCE)\n",
    "\n",
    "    参数:\n",
    "    y_true -- shape (n_samples, n_classes)，one-hot 真实标签\n",
    "    y_pred -- shape (n_samples, n_classes)，softmax 预测概率\n",
    "    eps -- 防止 log(0)\n",
    "\n",
    "    返回:\n",
    "    平均交叉熵损失\n",
    "    \"\"\"\n",
    "    y_pred = np.clip(y_pred, eps, 1 - eps)\n",
    "    loss = -np.sum(y_true * np.log(y_pred), axis=1)\n",
    "    return np.mean(loss)\n",
    "\n",
    "# 示例\n",
    "y_true = np.array([\n",
    "    [1, 0, 0],\n",
    "    [0, 1, 0],\n",
    "    [0, 0, 1]\n",
    "])  # 3 个样本，每个是 one-hot 编码\n",
    "\n",
    "y_pred = np.array([\n",
    "    [0.8, 0.1, 0.1],\n",
    "    [0.1, 0.7, 0.2],\n",
    "    [0.1, 0.2, 0.7]\n",
    "])  # softmax 输出\n",
    "\n",
    "# 手撕版本\n",
    "cce_manual = categorical_cross_entropy(y_true, y_pred)\n",
    "\n",
    "# sklearn 版本（需要标签索引）\n",
    "labels = np.array([0, 1, 2])  # 类别索引\n",
    "cce_sklearn = log_loss(labels, y_pred, labels=[0, 1, 2])\n",
    "\n",
    "print(\"Manual Categorical CE:\", cce_manual)\n",
    "print(\"Sklearn Categorical CE:\", cce_sklearn)"
   ],
   "metadata": {
    "colab": {
     "base_uri": "https://localhost:8080/"
    },
    "id": "OCA1r8dt9BgX",
    "outputId": "27145ab4-bdf2-49d2-ed03-d0498eb50d32"
   },
   "execution_count": null,
   "outputs": [
    {
     "output_type": "stream",
     "name": "stdout",
     "text": [
      "Manual Categorical CE: 0.3121644797305582\n",
      "Sklearn Categorical CE: 0.3121644797305582\n"
     ]
    }
   ]
  },
  {
   "cell_type": "markdown",
   "source": [
    "### 6. KL 散度（Kullback-Leibler Divergence）\n",
    "\n",
    "---\n",
    "\n",
    "#### 📖 定义\n",
    "\n",
    "KL 散度衡量两个概率分布之间的“距离”（信息损失），不对称地衡量“从分布 $Q$ 逼近真实分布 $P$ 有多差”。\n",
    "\n",
    "数学定义如下：\n",
    "\n",
    "$$\n",
    "D_{KL}(P \\| Q) = \\sum_{i} P(i) \\log \\frac{P(i)}{Q(i)}\n",
    "$$\n",
    "\n",
    "- $P$：真实分布（ground truth / teacher / soft label）\n",
    "- $Q$：预测分布（通常是模型 softmax 输出）\n",
    "\n",
    "\n",
    "---\n",
    "\n",
    "#### ✅ 特性总结\n",
    "\n",
    "| 特性             | 描述                                           |\n",
    "|------------------|------------------------------------------------|\n",
    "| 是否对称         | ❌ 不对称：$D_{KL}(P \\| Q) \\neq D_{KL}(Q \\| P)$ |\n",
    "| 最小值           | $\\min D_{KL} = 0$，当 $P = Q$ 时取到             |\n",
    "| 可用于 soft label| ✅ 非 one-hot 标签（如知识蒸馏）                |\n",
    "| 输出要求         | 两个输入都必须是概率分布（总和为 1）            |\n",
    "\n",
    "---\n",
    "\n",
    "#### 🔁 与 Cross-Entropy 的关系\n",
    "\n",
    "交叉熵：\n",
    "\n",
    "$$\n",
    "H(P, Q) = -\\sum P(i) \\log Q(i)\n",
    "$$\n",
    "\n",
    "与 KL 的关系：\n",
    "\n",
    "$$\n",
    "D_{KL}(P \\| Q) = H(P, Q) - H(P)\n",
    "$$\n",
    "\n",
    "---\n",
    "\n",
    "\n",
    "其中：\n",
    "\n",
    "- $H(P) = -\\sum_i P(i) \\log P(i)$   —— **真实分布 $P$ 的熵**，代表“在知道真实分布的前提下，压缩数据的最优信息量”。\n",
    "- $H(P, Q) = -\\sum_i P(i) \\log Q(i)$ —— **交叉熵**，代表“用预测分布 $Q$ 编码真实样本 $P$ 时的平均代价”。\n",
    "\n",
    "---\n",
    "\n",
    "#### 🧠 直观理解：\n",
    "\n",
    "| 符号         | 含义                                           |\n",
    "|--------------|------------------------------------------------|\n",
    "| $H(P)$       | 自己知道标签时，最优压缩所需信息（不可导）     |\n",
    "| $H(P, Q)$    | 用模型预测去编码真实标签所需的信息量           |\n",
    "| $D_{KL}$     | 因为模型不准，**多浪费的那部分信息**            |\n",
    "\n",
    "---\n",
    "\n",
    "📌 所以在训练中：\n",
    "\n",
    "- \\( H(P) \\) 是常数（因为标签固定），无法优化\n",
    "- **最小化 KL 散度 ⇔ 最小化 Cross Entropy**\n",
    "\n",
    "也就是说，**我们通常使用交叉熵作为损失函数**，实质上是在最小化模型预测分布与真实分布之间的 KL 散度。\n",
    "\n",
    "即：**KL = 交叉熵 - 熵**，在 $P$ 固定时，最小化 KL 等价于最小化交叉熵。\n",
    "\n",
    "---\n",
    "\n",
    "#### 📌 一句话理解：\n",
    "\n",
    "> “KL 散度告诉我们预测分布 $Q$ 离真实分布 $P$ 差了多少信息量。”\n"
   ],
   "metadata": {
    "id": "UCCDeTiXwz63"
   }
  },
  {
   "cell_type": "code",
   "source": [
    "import numpy as np\n",
    "from scipy.special import softmax\n",
    "\n",
    "def kl_divergence(P, Q, eps=1e-15):\n",
    "    \"\"\"\n",
    "    计算 KL 散度 D_KL(P || Q)\n",
    "\n",
    "    参数:\n",
    "    P -- shape (n_samples, n_classes)，真实分布\n",
    "    Q -- shape (n_samples, n_classes)，预测分布（softmax 输出）\n",
    "    eps -- 防止 log(0)\n",
    "\n",
    "    返回:\n",
    "    每个样本的 KL 散度均值\n",
    "    \"\"\"\n",
    "    P = np.clip(P, eps, 1)\n",
    "    Q = np.clip(Q, eps, 1)\n",
    "    kl = P * np.log(P / Q)\n",
    "    return np.mean(np.sum(kl, axis=1))\n",
    "\n",
    "# 示例：soft label\n",
    "P = np.array([\n",
    "    [0.9, 0.1],\n",
    "    [0.3, 0.7]\n",
    "])\n",
    "\n",
    "Q = np.array([\n",
    "    [0.6, 0.4],\n",
    "    [0.4, 0.6]\n",
    "])\n",
    "\n",
    "loss = kl_divergence(P, Q)\n",
    "print(\"KL Divergence:\", loss)\n"
   ],
   "metadata": {
    "colab": {
     "base_uri": "https://localhost:8080/"
    },
    "id": "nuWCzPtyw3Eh",
    "outputId": "4afd0096-76cd-4915-9b18-3b5693b1a52f"
   },
   "execution_count": 1,
   "outputs": [
    {
     "output_type": "stream",
     "name": "stdout",
     "text": [
      "KL Divergence: 0.12394500766445271\n"
     ]
    }
   ]
  },
  {
   "cell_type": "markdown",
   "source": [
    "### 7. Focal Loss（聚焦损失函数）\n",
    "\n",
    "---\n",
    "\n",
    "#### 📖 背景动机\n",
    "\n",
    "在很多真实场景中（如目标检测、欺诈识别、医疗诊断），**样本类别分布严重不均衡**，例如：\n",
    "\n",
    "- 负类远多于正类\n",
    "- 模型极易被“容易样本”主导，忽略少数关键样本\n",
    "\n",
    "传统的 **Binary Cross-Entropy（BCE）** 不区分容易/困难样本，会导致模型**“懒惰地”优化**\n",
    "\n",
    "---\n",
    "\n",
    "#### 🧠 核心思想\n",
    "\n",
    "Focal Loss = **让模型更关注困难样本（hard examples）**\n",
    "\n",
    "- **对容易分类的样本**：降低其损失权重\n",
    "- **对难以分类的样本**：放大其损失权重\n",
    "\n",
    "---\n",
    "\n",
    "#### ✅ 定义公式（针对二分类）\n",
    "\n",
    "设：\n",
    "\n",
    "- $y \\in \\{0, 1\\}$ 是真实标签\n",
    "- $\\hat{y} \\in (0, 1)$ 是预测概率（来自 sigmoid）\n",
    "\n",
    "Focal Loss 定义为：\n",
    "\n",
    "$$\n",
    "\\text{FL}(y, \\hat{y}) = - \\alpha_t (1 - p_t)^{\\gamma} \\log(p_t)\n",
    "$$\n",
    "\n",
    "其中：\n",
    "\n",
    "- $p_t = \\begin{cases} \\hat{y} & \\text{if } y = 1 \\\\\\\\ 1 - \\hat{y} & \\text{if } y = 0 \\end{cases}$\n",
    "- $\\alpha_t$ 是正负样本的平衡因子（可选）\n",
    "- $\\gamma$ 是 **聚焦因子（focusing parameter）**，控制对难样本的关注程度\n",
    "\n",
    "---\n",
    "\n",
    "#### 🎛️ 参数解释\n",
    "\n",
    "| 参数     | 默认值 | 控制作用 |\n",
    "|----------|--------|----------|\n",
    "| $\\gamma$ | 2.0    | 越大越关注困难样本（推荐范围 0~5） |\n",
    "| $\\alpha$ | 可选   | 控制正负类权重（如正样本稀少时 α=0.75） |\n",
    "\n",
    "---\n",
    "\n",
    "#### ✅ 特性总结\n",
    "\n",
    "| 特性           | 描述                                              |\n",
    "|----------------|---------------------------------------------------|\n",
    "| 类别不均衡     | ✅ 专为解决类别极度不平衡设计                     |\n",
    "| 可调控制       | ✅ 通过 γ 调整关注程度，α 控制类别比例             |\n",
    "| 可解释性强     | ✅ 直接惩罚低置信度样本                          |\n",
    "| 适合场景       | ❗ 检测稀有事件、小目标、异常检测等                |\n",
    "\n",
    "---\n",
    "\n",
    "#### 📌 一句话理解：\n",
    "\n",
    "> “Focal Loss 让模型少关心那些已经预测很准的样本，把注意力集中在真正难搞的错样本身上。”\n",
    "\n",
    "---\n",
    "\n",
    "#### 📦 应用实例\n",
    "\n",
    "- RetinaNet（目标检测中首个使用 focal loss 的知名架构）\n",
    "- 高度不平衡数据集中的分类任务\n"
   ],
   "metadata": {
    "id": "RIFLANHp0G8m"
   }
  },
  {
   "cell_type": "code",
   "source": [
    "import numpy as np\n",
    "\n",
    "def binary_focal_loss(y_true, y_pred, gamma=2.0, alpha=0.25, eps=1e-7):\n",
    "    \"\"\"\n",
    "    手撕实现 Binary Focal Loss\n",
    "\n",
    "    参数:\n",
    "    y_true -- shape (n,), 标签 0 或 1\n",
    "    y_pred -- shape (n,), 预测概率（sigmoid 输出）\n",
    "    gamma -- 聚焦因子，默认 2.0\n",
    "    alpha -- 类别平衡因子（正类权重），默认 0.25\n",
    "    eps -- 防止 log(0)\n",
    "\n",
    "    返回:\n",
    "    平均 focal loss\n",
    "    \"\"\"\n",
    "    y_pred = np.clip(y_pred, eps, 1 - eps)  # 防止 log(0)\n",
    "\n",
    "    pt = np.where(y_true == 1, y_pred, 1 - y_pred)  # p_t = y_pred if y=1 else 1-y_pred\n",
    "    alpha_t = np.where(y_true == 1, alpha, 1 - alpha)\n",
    "\n",
    "    loss = -alpha_t * (1 - pt) ** gamma * np.log(pt)\n",
    "    return np.mean(loss)\n",
    "\n",
    "# 示例数据\n",
    "y_true = np.array([1, 0, 1, 0, 1])\n",
    "y_pred = np.array([0.9, 0.1, 0.8, 0.2, 0.6])  # sigmoid 输出\n",
    "\n",
    "focal = binary_focal_loss(y_true, y_pred, gamma=2.0, alpha=0.25)\n",
    "focal\n"
   ],
   "metadata": {
    "colab": {
     "base_uri": "https://localhost:8080/"
    },
    "id": "qVBgVDXT0Li8",
    "outputId": "d013d859-5ef3-4a9b-c2f1-112d8dfdb030"
   },
   "execution_count": 2,
   "outputs": [
    {
     "output_type": "execute_result",
     "data": {
      "text/plain": [
       "np.float64(0.0060824744319572565)"
      ]
     },
     "metadata": {},
     "execution_count": 2
    }
   ]
  },
  {
   "cell_type": "code",
   "source": [
    "import numpy as np\n",
    "import matplotlib.pyplot as plt\n",
    "from IPython.display import Image, display\n",
    "# BCE 与 Focal Loss 对比\n",
    "\n",
    "\n",
    "# 构造预测概率\n",
    "y_pred_range = np.linspace(0.01, 0.99, 200)\n",
    "y_true_pos = np.ones_like(y_pred_range)  # 正类样本\n",
    "\n",
    "# BCE 与 Focal Loss 对比\n",
    "bce_vals = -np.log(y_pred_range)\n",
    "focal_vals = np.array([\n",
    "    binary_focal_loss(np.array([1]), np.array([p]), gamma=2.0, alpha=0.25)\n",
    "    for p in y_pred_range\n",
    "])\n",
    "\n",
    "# 绘图\n",
    "plt.figure(figsize=(8, 5))\n",
    "plt.plot(y_pred_range, bce_vals, label='Binary Cross Entropy', linestyle='--')\n",
    "plt.plot(y_pred_range, focal_vals, label='Focal Loss (γ=2.0, α=0.25)', linewidth=2)\n",
    "plt.title('Focal Loss vs BCE on Positive Samples')\n",
    "plt.xlabel('Predicted Probability (ŷ)')\n",
    "plt.ylabel('Loss')\n",
    "plt.grid(True)\n",
    "plt.legend()\n",
    "plt.tight_layout()\n",
    "\n",
    "# 保存图像\n",
    "image_path = \"/content/focal_vs_bce.png\"\n",
    "plt.savefig(image_path)\n",
    "\n",
    "# 显示图像\n",
    "display(Image(image_path))\n"
   ],
   "metadata": {
    "colab": {
     "base_uri": "https://localhost:8080/",
     "height": 1000
    },
    "id": "BglbTmDN1rRf",
    "outputId": "1954805c-d938-490e-994b-b29a9f5761ad"
   },
   "execution_count": 4,
   "outputs": [
    {
     "output_type": "display_data",
     "data": {
      "image/png": "[encoded data removed]",
      "text/plain": [
       "<IPython.core.display.Image object>"
      ]
     },
     "metadata": {}
    },
    {
     "output_type": "display_data",
     "data": {
      "text/plain": [
       "<Figure size 800x500 with 1 Axes>"
      ],
      "image/png": "[encoded data removed]"
     },
     "metadata": {}
    }
   ]
  },
  {
   "cell_type": "markdown",
   "source": [
    "### 8. Hinge Loss（合页损失）\n",
    "\n",
    "---\n",
    "\n",
    "#### 📖 定义\n",
    "\n",
    "Hinge Loss 最常用于二分类，要求标签 $y \\in \\{-1, +1\\}$，预测输出 $\\hat{y}$ 是**原始打分（非概率）**。\n",
    "\n",
    "定义为：\n",
    "\n",
    "$$\n",
    "\\text{hinge}(y, \\hat{y}) = \\max(0, 1 - y \\cdot \\hat{y})\n",
    "$$\n",
    "\n",
    "\n",
    "---\n",
    "\n",
    "#### 🔍 直观理解\n",
    "\n",
    "- 如果 $$y \\cdot \\hat{y} \\geq 1$$：分类正确且有 margin，loss 为 0\n",
    "- 如果 $$y \\cdot \\hat{y} < 1$$：分类错误或距离超平面太近 → 有损失\n",
    "\n",
    "---\n",
    "\n",
    "#### ✅ 特性总结\n",
    "\n",
    "| 特性         | 描述                                          |\n",
    "|--------------|-----------------------------------------------|\n",
    "| 分类边界     | 显式要求 $y \\cdot \\hat{y} \\geq 1$              |\n",
    "| 不连续梯度   | 在 margin=1 的点处不可导（可近似替代）         |\n",
    "| 对误差敏感   | 对 margin 较小的预测更严苛                    |\n",
    "| 不输出概率   | 不适合用在概率预测问题（非 sigmoid/softmax）   |\n",
    "\n",
    "---\n",
    "\n",
    "#### 🧠 一句话理解：\n",
    "\n",
    "> “Hinge Loss 惩罚那些靠近或越过分类边界的样本，让模型学出一个明确的 margin。”\n",
    "\n",
    "---\n",
    "\n",
    "#### 📦 应用实例\n",
    "\n",
    "- 支持向量机（SVM）原生使用\n",
    "- 也可用于深度模型中作为替代 BCE 的 margin-based 分类方法\n",
    "- 多分类扩展形式为 **Multiclass Hinge Loss / Structured SVM**\n",
    "\n"
   ],
   "metadata": {
    "id": "vvIcAW9i2ZKl"
   }
  },
  {
   "cell_type": "code",
   "source": [
    "import numpy as np\n",
    "\n",
    "def hinge_loss(y_true, y_pred):\n",
    "    \"\"\"\n",
    "    Hinge Loss 实现\n",
    "\n",
    "    参数:\n",
    "    y_true -- 真实标签（应为 +1 或 -1）\n",
    "    y_pred -- 预测值（可以是 margin 或 logit）\n",
    "\n",
    "    返回:\n",
    "    Hinge Loss 的平均值\n",
    "    \"\"\"\n",
    "    loss = np.maximum(0, 1 - y_true * y_pred)\n",
    "    return np.mean(loss)\n",
    "\n",
    "# 示例\n",
    "y_true = np.array([1, -1, 1, -1])\n",
    "y_pred = np.array([0.8, -0.5, 0.3, -0.9])  # 可以是 SVM 输出的 margin\n",
    "\n",
    "print(\"Hinge Loss =\", hinge_loss(y_true, y_pred))\n"
   ],
   "metadata": {
    "id": "HIoiZg7l2ZtK",
    "ExecuteTime": {
     "end_time": "2025-05-26T04:35:47.542663Z",
     "start_time": "2025-05-26T04:35:47.462885Z"
    }
   },
   "outputs": [
    {
     "name": "stdout",
     "output_type": "stream",
     "text": [
      "Hinge Loss = 0.375\n"
     ]
    }
   ],
   "execution_count": 1
  }
 ]
}
